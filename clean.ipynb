{
 "cells": [
  {
   "cell_type": "markdown",
   "id": "8f877813",
   "metadata": {},
   "source": [
    "# Basic cleaning"
   ]
  },
  {
   "cell_type": "code",
   "execution_count": 1,
   "id": "74949eeb",
   "metadata": {},
   "outputs": [],
   "source": [
    "import pandas as pd\n",
    "import numpy as np\n",
    "\n",
    "from typing import List\n",
    "\n",
    "from sklearn.impute import SimpleImputer\n",
    "\n",
    "from util.cleaners import BasicCleaner"
   ]
  },
  {
   "cell_type": "code",
   "execution_count": 2,
   "id": "d62d0114",
   "metadata": {},
   "outputs": [],
   "source": [
    "train_df = pd.read_csv('data/train.csv')\n",
    "test_df = pd.read_csv('data/test.csv')"
   ]
  },
  {
   "cell_type": "code",
   "execution_count": 3,
   "id": "263c184d",
   "metadata": {},
   "outputs": [],
   "source": [
    "# Remove capitalization on column names\n",
    "train_df.columns = [column_name.lower() for column_name in train_df.columns]\n",
    "test_df.columns = [column_name.lower() for column_name in test_df.columns]"
   ]
  },
  {
   "cell_type": "markdown",
   "id": "420c692e",
   "metadata": {},
   "source": [
    "### Apply basic cleaning and feature extraction"
   ]
  },
  {
   "cell_type": "code",
   "execution_count": 4,
   "id": "1b45fdba",
   "metadata": {},
   "outputs": [],
   "source": [
    "cleaner = BasicCleaner()\n",
    "train_cleaned = cleaner.preprocessing(train_df)\n",
    "test_cleaned = cleaner.preprocessing(test_df)"
   ]
  },
  {
   "cell_type": "code",
   "execution_count": 5,
   "id": "bfdc24c0",
   "metadata": {
    "scrolled": true
   },
   "outputs": [
    {
     "data": {
      "text/html": [
       "<div>\n",
       "<style scoped>\n",
       "    .dataframe tbody tr th:only-of-type {\n",
       "        vertical-align: middle;\n",
       "    }\n",
       "\n",
       "    .dataframe tbody tr th {\n",
       "        vertical-align: top;\n",
       "    }\n",
       "\n",
       "    .dataframe thead th {\n",
       "        text-align: right;\n",
       "    }\n",
       "</style>\n",
       "<table border=\"1\" class=\"dataframe\">\n",
       "  <thead>\n",
       "    <tr style=\"text-align: right;\">\n",
       "      <th></th>\n",
       "      <th>passengerid</th>\n",
       "      <th>survived</th>\n",
       "      <th>pclass</th>\n",
       "      <th>sex</th>\n",
       "      <th>age</th>\n",
       "      <th>sibsp</th>\n",
       "      <th>parch</th>\n",
       "      <th>ticket</th>\n",
       "      <th>fare</th>\n",
       "      <th>cabin</th>\n",
       "      <th>embarked</th>\n",
       "      <th>first_name</th>\n",
       "      <th>last_name</th>\n",
       "      <th>title</th>\n",
       "    </tr>\n",
       "  </thead>\n",
       "  <tbody>\n",
       "    <tr>\n",
       "      <th>0</th>\n",
       "      <td>1</td>\n",
       "      <td>0</td>\n",
       "      <td>3</td>\n",
       "      <td>1</td>\n",
       "      <td>22.0</td>\n",
       "      <td>1</td>\n",
       "      <td>0</td>\n",
       "      <td>A/5 21171</td>\n",
       "      <td>7.2500</td>\n",
       "      <td>NaN</td>\n",
       "      <td>S</td>\n",
       "      <td>Braund</td>\n",
       "      <td>Owen Harris</td>\n",
       "      <td>mr</td>\n",
       "    </tr>\n",
       "    <tr>\n",
       "      <th>1</th>\n",
       "      <td>2</td>\n",
       "      <td>1</td>\n",
       "      <td>1</td>\n",
       "      <td>0</td>\n",
       "      <td>38.0</td>\n",
       "      <td>1</td>\n",
       "      <td>0</td>\n",
       "      <td>PC 17599</td>\n",
       "      <td>71.2833</td>\n",
       "      <td>C85</td>\n",
       "      <td>C</td>\n",
       "      <td>Cumings</td>\n",
       "      <td>John Bradley (Florence Briggs Thayer)</td>\n",
       "      <td>mrs</td>\n",
       "    </tr>\n",
       "    <tr>\n",
       "      <th>2</th>\n",
       "      <td>3</td>\n",
       "      <td>1</td>\n",
       "      <td>3</td>\n",
       "      <td>0</td>\n",
       "      <td>26.0</td>\n",
       "      <td>0</td>\n",
       "      <td>0</td>\n",
       "      <td>STON/O2. 3101282</td>\n",
       "      <td>7.9250</td>\n",
       "      <td>NaN</td>\n",
       "      <td>S</td>\n",
       "      <td>Heikkinen</td>\n",
       "      <td>Laina</td>\n",
       "      <td>miss</td>\n",
       "    </tr>\n",
       "  </tbody>\n",
       "</table>\n",
       "</div>"
      ],
      "text/plain": [
       "   passengerid  survived  pclass  sex   age  sibsp  parch            ticket  \\\n",
       "0            1         0       3    1  22.0      1      0         A/5 21171   \n",
       "1            2         1       1    0  38.0      1      0          PC 17599   \n",
       "2            3         1       3    0  26.0      0      0  STON/O2. 3101282   \n",
       "\n",
       "      fare cabin embarked first_name                              last_name  \\\n",
       "0   7.2500   NaN        S     Braund                            Owen Harris   \n",
       "1  71.2833   C85        C    Cumings  John Bradley (Florence Briggs Thayer)   \n",
       "2   7.9250   NaN        S  Heikkinen                                  Laina   \n",
       "\n",
       "  title  \n",
       "0    mr  \n",
       "1   mrs  \n",
       "2  miss  "
      ]
     },
     "execution_count": 5,
     "metadata": {},
     "output_type": "execute_result"
    }
   ],
   "source": [
    "train_cleaned.head(3)"
   ]
  },
  {
   "cell_type": "markdown",
   "id": "edd2946e",
   "metadata": {},
   "source": [
    "#### To CSV"
   ]
  },
  {
   "cell_type": "code",
   "execution_count": 6,
   "id": "c6153532",
   "metadata": {},
   "outputs": [],
   "source": [
    "train_cleaned.to_csv('data/train_cleaned_basic.csv', index=False)\n",
    "test_cleaned.to_csv('data/test_cleaned_basic.csv', index=False)"
   ]
  }
 ],
 "metadata": {
  "kernelspec": {
   "display_name": "Python 3 (ipykernel)",
   "language": "python",
   "name": "python3"
  },
  "language_info": {
   "codemirror_mode": {
    "name": "ipython",
    "version": 3
   },
   "file_extension": ".py",
   "mimetype": "text/x-python",
   "name": "python",
   "nbconvert_exporter": "python",
   "pygments_lexer": "ipython3",
   "version": "3.9.12"
  }
 },
 "nbformat": 4,
 "nbformat_minor": 5
}
