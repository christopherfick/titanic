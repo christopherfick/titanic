{
 "cells": [
  {
   "cell_type": "markdown",
   "id": "8f877813",
   "metadata": {},
   "source": [
    "# Basic cleaning"
   ]
  },
  {
   "cell_type": "code",
   "execution_count": 159,
   "id": "74949eeb",
   "metadata": {},
   "outputs": [],
   "source": [
    "import pandas as pd\n",
    "import numpy as np\n",
    "\n",
    "from typing import List\n",
    "\n",
    "from sklearn.impute import SimpleImputer"
   ]
  },
  {
   "cell_type": "code",
   "execution_count": 160,
   "id": "d62d0114",
   "metadata": {},
   "outputs": [],
   "source": [
    "train_df = pd.read_csv('data/train.csv')\n",
    "test_df = pd.read_csv('data/test.csv')"
   ]
  },
  {
   "cell_type": "code",
   "execution_count": 161,
   "id": "263c184d",
   "metadata": {},
   "outputs": [],
   "source": [
    "# Remove capitalization on column names\n",
    "train_df.columns = [column_name.lower() for column_name in train_df.columns]\n",
    "test_df.columns = [column_name.lower() for column_name in test_df.columns]"
   ]
  },
  {
   "cell_type": "markdown",
   "id": "420c692e",
   "metadata": {},
   "source": [
    "### Extract data from names column"
   ]
  },
  {
   "cell_type": "code",
   "execution_count": 171,
   "id": "bfdc24c0",
   "metadata": {},
   "outputs": [
    {
     "name": "stdout",
     "output_type": "stream",
     "text": [
      "passengerid      int64\n",
      "pclass           int64\n",
      "sex              int64\n",
      "age            float64\n",
      "sibsp            int64\n",
      "parch            int64\n",
      "ticket          object\n",
      "fare           float64\n",
      "cabin           object\n",
      "embarked        object\n",
      "first_name      object\n",
      "last_names      object\n",
      "title           object\n",
      "dtype: object\n"
     ]
    }
   ],
   "source": [
    "def extract_first_last_name(names):\n",
    "    first_name = [name.split('.')[0].split(',')[0].strip() for name in names]\n",
    "    last_names = [name.split('.')[1].strip() for name in names]\n",
    "    return (first_name, last_names)\n",
    "\n",
    "\n",
    "def extract_title(names):\n",
    "    uncommon_titles = 'Rev,Dr,Col,Major,Mlle,Ms,Sir,Capt,Mme,Jonkheer,Lady,the Countess,Don,Dona'.lower().split(',')\n",
    "    \n",
    "    titles = [i.rsplit(', ')[1].rsplit('.')[0].lower() for i in names]  \n",
    "    titles = ['uncommon' if i in uncommon_titles else i for i in titles]  # Group uncommon titles\n",
    "    return titles\n",
    "\n",
    "\n",
    "def binarize_sex(gender):\n",
    "    return [1 if i == 'male' else 0 for i in gender]\n",
    "\n",
    "\n",
    "def preprocessing(df):\n",
    "    df = df.copy(deep=True)\n",
    "    \n",
    "    # Seperate first and last names\n",
    "    df['first_name'], df['last_names'] = extract_first_last_name(df.name)\n",
    "    \n",
    "    # Get title from name\n",
    "    df['title'] = extract_title(df.name)\n",
    "    \n",
    "    # Convert [male,female] -> [1,0]\n",
    "    df.sex = binarize_sex(df.sex)\n",
    "    \n",
    "    # Drop name column\n",
    "    df.drop('name', axis=1, inplace=True)\n",
    "    \n",
    "    return df\n",
    "    \n",
    "    \n",
    "\n",
    "train_cleaned = preprocessing(train_df)\n",
    "test_cleaned = preprocessing(test_df)\n",
    "print(test_cleaned.dtypes)\n",
    "\n",
    "train_cleaned.embarked.fillna(train_cleaned.embarked.mode()[0], inplace=True)\n",
    "test_cleaned.fare.fillna(test_cleaned.fare.mean(), inplace=True)"
   ]
  },
  {
   "cell_type": "code",
   "execution_count": 173,
   "id": "c6153532",
   "metadata": {},
   "outputs": [],
   "source": [
    "train_cleaned.to_csv('data/train_cleaned.csv', index=False)\n",
    "test_cleaned.to_csv('data/test_cleaned.csv', index=False)"
   ]
  }
 ],
 "metadata": {
  "kernelspec": {
   "display_name": "Python 3 (ipykernel)",
   "language": "python",
   "name": "python3"
  },
  "language_info": {
   "codemirror_mode": {
    "name": "ipython",
    "version": 3
   },
   "file_extension": ".py",
   "mimetype": "text/x-python",
   "name": "python",
   "nbconvert_exporter": "python",
   "pygments_lexer": "ipython3",
   "version": "3.8.5"
  }
 },
 "nbformat": 4,
 "nbformat_minor": 5
}
