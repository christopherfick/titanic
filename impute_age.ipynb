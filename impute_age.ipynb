{
 "cells": [
  {
   "cell_type": "code",
   "execution_count": 151,
   "id": "f8df8da3",
   "metadata": {},
   "outputs": [],
   "source": [
    "import pandas as pd\n",
    "import numpy as np\n",
    "\n",
    "import math\n",
    "from math import floor\n",
    "\n",
    "from sklearn.model_selection import train_test_split\n",
    "from sklearn.compose import ColumnTransformer\n",
    "from sklearn.pipeline import make_pipeline\n",
    "from sklearn.preprocessing import OneHotEncoder, StandardScaler\n",
    "\n",
    "import matplotlib.pyplot as plt\n",
    "import seaborn as sns\n",
    "%matplotlib inline"
   ]
  },
  {
   "cell_type": "code",
   "execution_count": 2,
   "id": "33a869a8",
   "metadata": {},
   "outputs": [],
   "source": [
    "train_df = pd.read_csv('data/train_cleaned.csv')\n",
    "test_df = pd.read_csv('data/test_cleaned.csv')"
   ]
  },
  {
   "cell_type": "markdown",
   "id": "c07123da",
   "metadata": {},
   "source": [
    "### Join DataFrames drop survived"
   ]
  },
  {
   "cell_type": "code",
   "execution_count": 3,
   "id": "84d3cf63",
   "metadata": {},
   "outputs": [],
   "source": [
    "drop_col = ['survived', 'first_name', 'last_names', 'ticket', 'cabin', 'embarked', 'passengerid']\n",
    "df = pd.concat([train_df, test_df])\n",
    "df.drop(drop_col,axis=1, inplace=True)"
   ]
  },
  {
   "cell_type": "markdown",
   "id": "2bb07988",
   "metadata": {},
   "source": [
    "---\n",
    "## Re-distribute data \n",
    "- train_age-[no null values in age]\n",
    "- null_age-[age null values]"
   ]
  },
  {
   "cell_type": "code",
   "execution_count": 4,
   "id": "454e9a96",
   "metadata": {
    "scrolled": true
   },
   "outputs": [
    {
     "data": {
      "text/html": [
       "<div>\n",
       "<style scoped>\n",
       "    .dataframe tbody tr th:only-of-type {\n",
       "        vertical-align: middle;\n",
       "    }\n",
       "\n",
       "    .dataframe tbody tr th {\n",
       "        vertical-align: top;\n",
       "    }\n",
       "\n",
       "    .dataframe thead th {\n",
       "        text-align: right;\n",
       "    }\n",
       "</style>\n",
       "<table border=\"1\" class=\"dataframe\">\n",
       "  <thead>\n",
       "    <tr style=\"text-align: right;\">\n",
       "      <th></th>\n",
       "      <th>pclass</th>\n",
       "      <th>sex</th>\n",
       "      <th>age</th>\n",
       "      <th>sibsp</th>\n",
       "      <th>parch</th>\n",
       "      <th>fare</th>\n",
       "      <th>title</th>\n",
       "    </tr>\n",
       "  </thead>\n",
       "  <tbody>\n",
       "    <tr>\n",
       "      <th>0</th>\n",
       "      <td>3</td>\n",
       "      <td>1</td>\n",
       "      <td>22.0</td>\n",
       "      <td>1</td>\n",
       "      <td>0</td>\n",
       "      <td>7.2500</td>\n",
       "      <td>mr</td>\n",
       "    </tr>\n",
       "    <tr>\n",
       "      <th>1</th>\n",
       "      <td>1</td>\n",
       "      <td>0</td>\n",
       "      <td>38.0</td>\n",
       "      <td>1</td>\n",
       "      <td>0</td>\n",
       "      <td>71.2833</td>\n",
       "      <td>mrs</td>\n",
       "    </tr>\n",
       "    <tr>\n",
       "      <th>2</th>\n",
       "      <td>3</td>\n",
       "      <td>0</td>\n",
       "      <td>26.0</td>\n",
       "      <td>0</td>\n",
       "      <td>0</td>\n",
       "      <td>7.9250</td>\n",
       "      <td>miss</td>\n",
       "    </tr>\n",
       "  </tbody>\n",
       "</table>\n",
       "</div>"
      ],
      "text/plain": [
       "   pclass  sex   age  sibsp  parch     fare title\n",
       "0       3    1  22.0      1      0   7.2500    mr\n",
       "1       1    0  38.0      1      0  71.2833   mrs\n",
       "2       3    0  26.0      0      0   7.9250  miss"
      ]
     },
     "execution_count": 4,
     "metadata": {},
     "output_type": "execute_result"
    }
   ],
   "source": [
    "null_age = df[df.age.isnull()].drop('age',axis=1)\n",
    "train_age = df[df.age.notnull()]\n",
    "train_age.head(3)"
   ]
  },
  {
   "cell_type": "markdown",
   "id": "23b17505",
   "metadata": {},
   "source": [
    "### Exploring new data"
   ]
  },
  {
   "cell_type": "markdown",
   "id": "fa104eef",
   "metadata": {},
   "source": [
    "#### Notes:\n",
    "Preprocessing:  \n",
    "- Standardization required\n",
    "- One hot encoder for title features\n",
    "\n",
    "Anomalies:\n",
    "- min_age == 0.17?\n",
    "- math.floor() age [any one younger than 1 year] -> 0 years old, also removes any other floats from age column"
   ]
  },
  {
   "cell_type": "code",
   "execution_count": 5,
   "id": "e2beb063",
   "metadata": {
    "scrolled": false
   },
   "outputs": [
    {
     "data": {
      "image/png": "[encoded data removed]",
      "text/plain": [
       "<Figure size 432x288 with 1 Axes>"
      ]
     },
     "metadata": {
      "needs_background": "light"
     },
     "output_type": "display_data"
    },
    {
     "name": "stdout",
     "output_type": "stream",
     "text": [
      "pclass      int64\n",
      "sex         int64\n",
      "age       float64\n",
      "sibsp       int64\n",
      "parch       int64\n",
      "fare      float64\n",
      "title      object\n",
      "dtype: object\n",
      "----------------------------------------------------------------------------------\n",
      "            pclass          sex          age        sibsp       parch  \\\n",
      "count  1046.000000  1046.000000  1046.000000  1046.000000  1046.00000   \n",
      "mean      2.207457     0.629063    29.881138     0.502868     0.42065   \n",
      "std       0.841497     0.483287    14.413493     0.912167     0.83975   \n",
      "min       1.000000     0.000000     0.170000     0.000000     0.00000   \n",
      "25%       1.000000     0.000000    21.000000     0.000000     0.00000   \n",
      "50%       2.000000     1.000000    28.000000     0.000000     0.00000   \n",
      "75%       3.000000     1.000000    39.000000     1.000000     1.00000   \n",
      "max       3.000000     1.000000    80.000000     8.000000     6.00000   \n",
      "\n",
      "              fare  \n",
      "count  1046.000000  \n",
      "mean     36.685068  \n",
      "std      55.705870  \n",
      "min       0.000000  \n",
      "25%       8.050000  \n",
      "50%      15.800000  \n",
      "75%      35.500000  \n",
      "max     512.329200  \n"
     ]
    }
   ],
   "source": [
    "sns.boxplot(data=train_age)\n",
    "plt.show()\n",
    "\n",
    "print(train_age.dtypes, end='\\n----------------------------------------------------------------------------------\\n')\n",
    "print(train_age.describe())"
   ]
  },
  {
   "cell_type": "code",
   "execution_count": 6,
   "id": "f687bbfa",
   "metadata": {
    "scrolled": true
   },
   "outputs": [
    {
     "data": {
      "text/html": [
       "<div>\n",
       "<style scoped>\n",
       "    .dataframe tbody tr th:only-of-type {\n",
       "        vertical-align: middle;\n",
       "    }\n",
       "\n",
       "    .dataframe tbody tr th {\n",
       "        vertical-align: top;\n",
       "    }\n",
       "\n",
       "    .dataframe thead th {\n",
       "        text-align: right;\n",
       "    }\n",
       "</style>\n",
       "<table border=\"1\" class=\"dataframe\">\n",
       "  <thead>\n",
       "    <tr style=\"text-align: right;\">\n",
       "      <th></th>\n",
       "      <th>pclass</th>\n",
       "      <th>sex</th>\n",
       "      <th>age</th>\n",
       "      <th>sibsp</th>\n",
       "      <th>parch</th>\n",
       "      <th>fare</th>\n",
       "      <th>title</th>\n",
       "    </tr>\n",
       "  </thead>\n",
       "  <tbody>\n",
       "    <tr>\n",
       "      <th>9</th>\n",
       "      <td>2</td>\n",
       "      <td>0</td>\n",
       "      <td>14.0</td>\n",
       "      <td>1</td>\n",
       "      <td>0</td>\n",
       "      <td>30.0708</td>\n",
       "      <td>mrs</td>\n",
       "    </tr>\n",
       "    <tr>\n",
       "      <th>307</th>\n",
       "      <td>1</td>\n",
       "      <td>0</td>\n",
       "      <td>17.0</td>\n",
       "      <td>1</td>\n",
       "      <td>0</td>\n",
       "      <td>108.9000</td>\n",
       "      <td>mrs</td>\n",
       "    </tr>\n",
       "    <tr>\n",
       "      <th>781</th>\n",
       "      <td>1</td>\n",
       "      <td>0</td>\n",
       "      <td>17.0</td>\n",
       "      <td>1</td>\n",
       "      <td>0</td>\n",
       "      <td>57.0000</td>\n",
       "      <td>mrs</td>\n",
       "    </tr>\n",
       "    <tr>\n",
       "      <th>830</th>\n",
       "      <td>3</td>\n",
       "      <td>0</td>\n",
       "      <td>15.0</td>\n",
       "      <td>1</td>\n",
       "      <td>0</td>\n",
       "      <td>14.4542</td>\n",
       "      <td>mrs</td>\n",
       "    </tr>\n",
       "    <tr>\n",
       "      <th>104</th>\n",
       "      <td>3</td>\n",
       "      <td>0</td>\n",
       "      <td>16.0</td>\n",
       "      <td>1</td>\n",
       "      <td>1</td>\n",
       "      <td>8.5167</td>\n",
       "      <td>mrs</td>\n",
       "    </tr>\n",
       "  </tbody>\n",
       "</table>\n",
       "</div>"
      ],
      "text/plain": [
       "     pclass  sex   age  sibsp  parch      fare title\n",
       "9         2    0  14.0      1      0   30.0708   mrs\n",
       "307       1    0  17.0      1      0  108.9000   mrs\n",
       "781       1    0  17.0      1      0   57.0000   mrs\n",
       "830       3    0  15.0      1      0   14.4542   mrs\n",
       "104       3    0  16.0      1      1    8.5167   mrs"
      ]
     },
     "execution_count": 6,
     "metadata": {},
     "output_type": "execute_result"
    }
   ],
   "source": [
    "train_age.loc[(train_age.age < 18)&(train_age.title == 'mrs')]"
   ]
  },
  {
   "cell_type": "markdown",
   "id": "36d98a74",
   "metadata": {},
   "source": [
    "### Preprocessing"
   ]
  },
  {
   "cell_type": "code",
   "execution_count": 44,
   "id": "b17acce2",
   "metadata": {},
   "outputs": [
    {
     "data": {
      "text/plain": [
       "Index(['pclass', 'sex', 'age', 'sibsp', 'parch', 'fare', 'title'], dtype='object')"
      ]
     },
     "execution_count": 44,
     "metadata": {},
     "output_type": "execute_result"
    }
   ],
   "source": [
    "train_age.columns"
   ]
  },
  {
   "cell_type": "code",
   "execution_count": 129,
   "id": "a44577bd",
   "metadata": {},
   "outputs": [],
   "source": [
    "transformer = ColumnTransformer([('one_hot', OneHotEncoder(), ['title']),\n",
    "                                 ('standardize', StandardScaler(), ['pclass', 'sibsp', 'parch', 'fare'])],\n",
    "                                 remainder='passthrough')\n"
   ]
  },
  {
   "cell_type": "code",
   "execution_count": 133,
   "id": "de4bcbdf",
   "metadata": {},
   "outputs": [
    {
     "data": {
      "text/plain": [
       "<AxesSubplot:>"
      ]
     },
     "execution_count": 133,
     "metadata": {},
     "output_type": "execute_result"
    },
    {
     "data": {
      "image/png": "[encoded data removed]",
      "text/plain": [
       "<Figure size 720x360 with 1 Axes>"
      ]
     },
     "metadata": {
      "needs_background": "light"
     },
     "output_type": "display_data"
    }
   ],
   "source": [
    "X = train_age.drop('age',axis=1)\n",
    "y = [floor(age) for age in train_age['age']]\n",
    "\n",
    "\n",
    "X_train, X_test, y_train, y_test = train_test_split(X,\n",
    "                                                    y,\n",
    "                                                    test_size=.2,\n",
    "                                                    random_state=22)\n",
    "\n",
    "X_train = transformer.fit_transform(X_train)\n",
    "X_test = transformer.transform(X_test)\n",
    "\n",
    "# Get column names\n",
    "columns = transformer.named_transformers_['one_hot'].get_feature_names()\n",
    "columns = np.append(columns, ['pclass', 'sibsp', 'parch', 'fare', 'sex'])\n",
    "\n",
    "# Convert to DataFrame\n",
    "df = pd.DataFrame(X_train, columns=columns)\n",
    "\n",
    "# Plot\n",
    "fig = plt.figure(figsize=(10,5))\n",
    "sns.boxplot(data=df)"
   ]
  },
  {
   "cell_type": "code",
   "execution_count": 191,
   "id": "4936accd",
   "metadata": {},
   "outputs": [],
   "source": [
    "def regression_results(predictions, actual):\n",
    "    df = pd.DataFrame({'predictions':predictions,\n",
    "                       'actual':actual})\n",
    "    df['squared_differences'] = (df.actual - df.predictions) ** 2\n",
    "    df['error_square_root'] = [math.sqrt(value) for value in df.squared_differences]\n",
    "    return df"
   ]
  },
  {
   "cell_type": "code",
   "execution_count": 192,
   "id": "b2a42631",
   "metadata": {
    "scrolled": false
   },
   "outputs": [],
   "source": [
    "from sklearn.linear_model import LinearRegression\n",
    "\n",
    "clf = LinearRegression().fit(X_train, y_train)\n",
    "predictions = clf.predict(X_test)\n",
    "\n",
    "df = regression_results(predictions, y_test)"
   ]
  },
  {
   "cell_type": "code",
   "execution_count": 240,
   "id": "d4f8cb60",
   "metadata": {
    "scrolled": true
   },
   "outputs": [
    {
     "data": {
      "image/png": "[encoded data removed]",
      "text/plain": [
       "<Figure size 720x360 with 2 Axes>"
      ]
     },
     "metadata": {
      "needs_background": "light"
     },
     "output_type": "display_data"
    }
   ],
   "source": [
    "fig, ax = plt.subplots(1,2, figsize=(10,5))\n",
    "\n",
    "sns.scatterplot(data=df, x='actual', y='predictions', ax=ax[0])\n",
    "ax[0].plot(y_test,y_test, 'r')\n",
    "\n",
    "ax[1].bar(df.predictions, df.error_square_root, color='skyblue')\n",
    "ax[1].set_xlabel('predictions')\n",
    "ax[1].set_ylabel('error_sqrt')\n",
    "\n",
    "fig.subplots_adjust(wspace=0.2)"
   ]
  },
  {
   "cell_type": "code",
   "execution_count": 245,
   "id": "d967631d",
   "metadata": {
    "scrolled": true
   },
   "outputs": [],
   "source": [
    "bad_pred = df[df.error_square_root > 15]\n",
    "good_pred = df[df.error_square_root < 5]"
   ]
  },
  {
   "cell_type": "code",
   "execution_count": 258,
   "id": "0c71f69f",
   "metadata": {},
   "outputs": [
    {
     "data": {
      "text/plain": [
       "18    4\n",
       "61    3\n",
       "44    2\n",
       "54    2\n",
       "17    2\n",
       "0     1\n",
       "1     1\n",
       "60    1\n",
       "22    1\n",
       "55    1\n",
       "21    1\n",
       "52    1\n",
       "51    1\n",
       "5     1\n",
       "64    1\n",
       "15    1\n",
       "45    1\n",
       "50    1\n",
       "65    1\n",
       "8     1\n",
       "4     1\n",
       "2     1\n",
       "62    1\n",
       "Name: actual, dtype: int64"
      ]
     },
     "execution_count": 258,
     "metadata": {},
     "output_type": "execute_result"
    }
   ],
   "source": [
    "bad_values"
   ]
  },
  {
   "cell_type": "code",
   "execution_count": 255,
   "id": "317cc049",
   "metadata": {},
   "outputs": [
    {
     "data": {
      "text/plain": [
       "<BarContainer object of 23 artists>"
      ]
     },
     "execution_count": 255,
     "metadata": {},
     "output_type": "execute_result"
    },
    {
     "data": {
      "image/png": "[encoded data removed]",
      "text/plain": [
       "<Figure size 432x288 with 2 Axes>"
      ]
     },
     "metadata": {
      "needs_background": "light"
     },
     "output_type": "display_data"
    }
   ],
   "source": [
    "good_values = good_pred.actual.value_counts()\n",
    "bad_values = bad_pred.actual.value_counts()\n",
    "\n",
    "fig, ax = plt.subplots(1,2)\n",
    "ax[0].bar(good_values.index, good_values.values)\n",
    "ax[1].bar(bad_values.index, bad_values.values)"
   ]
  }
 ],
 "metadata": {
  "kernelspec": {
   "display_name": "Python 3 (ipykernel)",
   "language": "python",
   "name": "python3"
  },
  "language_info": {
   "codemirror_mode": {
    "name": "ipython",
    "version": 3
   },
   "file_extension": ".py",
   "mimetype": "text/x-python",
   "name": "python",
   "nbconvert_exporter": "python",
   "pygments_lexer": "ipython3",
   "version": "3.8.5"
  }
 },
 "nbformat": 4,
 "nbformat_minor": 5
}
