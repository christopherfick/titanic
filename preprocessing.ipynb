{
 "cells": [
  {
   "cell_type": "code",
   "execution_count": 26,
   "id": "bd652ec9-6e87-4241-ae9d-732d51058e22",
   "metadata": {},
   "outputs": [],
   "source": [
    "import util\n",
    "\n",
    "import pandas as pd\n",
    "import numpy as np\n",
    "import matplotlib.pyplot as plt\n",
    "import seaborn as sns\n",
    "%matplotlib inline\n",
    "\n",
    "from sklearn.model_selection import cross_val_score\n",
    "from sklearn.linear_model import LogisticRegression\n",
    "from sklearn.tree import DecisionTreeClassifier\n",
    "from sklearn.ensemble import RandomForestClassifier\n",
    "from sklearn.neighbors import KNeighborsClassifier\n",
    "from sklearn.svm import SVC"
   ]
  },
  {
   "cell_type": "code",
   "execution_count": 28,
   "id": "0d085e85-b6f3-4515-945c-541b8034680b",
   "metadata": {},
   "outputs": [
    {
     "name": "stdout",
     "output_type": "stream",
     "text": [
      "<class 'pandas.core.frame.DataFrame'>\n",
      "Int64Index: 1309 entries, 1 to 1309\n",
      "Data columns (total 11 columns):\n",
      " #   Column    Non-Null Count  Dtype  \n",
      "---  ------    --------------  -----  \n",
      " 0   Survived  891 non-null    float64\n",
      " 1   Pclass    1309 non-null   int64  \n",
      " 2   Name      1309 non-null   object \n",
      " 3   Sex       1309 non-null   object \n",
      " 4   Age       1046 non-null   float64\n",
      " 5   SibSp     1309 non-null   int64  \n",
      " 6   Parch     1309 non-null   int64  \n",
      " 7   Ticket    1309 non-null   object \n",
      " 8   Fare      1308 non-null   float64\n",
      " 9   Cabin     295 non-null    object \n",
      " 10  Embarked  1307 non-null   object \n",
      "dtypes: float64(3), int64(3), object(5)\n",
      "memory usage: 122.7+ KB\n"
     ]
    }
   ],
   "source": [
    "df_train = pd.read_csv('train.csv', index_col=[0])\n",
    "df_test = pd.read_csv('test.csv', index_col=[0])\n",
    "\n",
    "df = pd.concat([df_train, df_test])\n",
    "df.info()"
   ]
  },
  {
   "cell_type": "code",
   "execution_count": 96,
   "id": "fa30fb6c",
   "metadata": {},
   "outputs": [
    {
     "data": {
      "text/html": [
       "<div>\n",
       "<style scoped>\n",
       "    .dataframe tbody tr th:only-of-type {\n",
       "        vertical-align: middle;\n",
       "    }\n",
       "\n",
       "    .dataframe tbody tr th {\n",
       "        vertical-align: top;\n",
       "    }\n",
       "\n",
       "    .dataframe thead th {\n",
       "        text-align: right;\n",
       "    }\n",
       "</style>\n",
       "<table border=\"1\" class=\"dataframe\">\n",
       "  <thead>\n",
       "    <tr style=\"text-align: right;\">\n",
       "      <th></th>\n",
       "      <th>Pclass</th>\n",
       "      <th>Survived</th>\n",
       "      <th>Age_Average</th>\n",
       "    </tr>\n",
       "  </thead>\n",
       "  <tbody>\n",
       "    <tr>\n",
       "      <th>0</th>\n",
       "      <td>3</td>\n",
       "      <td>0</td>\n",
       "      <td>25.0</td>\n",
       "    </tr>\n",
       "    <tr>\n",
       "      <th>1</th>\n",
       "      <td>3</td>\n",
       "      <td>1</td>\n",
       "      <td>22.0</td>\n",
       "    </tr>\n",
       "    <tr>\n",
       "      <th>2</th>\n",
       "      <td>1</td>\n",
       "      <td>0</td>\n",
       "      <td>45.2</td>\n",
       "    </tr>\n",
       "    <tr>\n",
       "      <th>3</th>\n",
       "      <td>1</td>\n",
       "      <td>1</td>\n",
       "      <td>35.0</td>\n",
       "    </tr>\n",
       "    <tr>\n",
       "      <th>4</th>\n",
       "      <td>2</td>\n",
       "      <td>0</td>\n",
       "      <td>30.5</td>\n",
       "    </tr>\n",
       "    <tr>\n",
       "      <th>5</th>\n",
       "      <td>2</td>\n",
       "      <td>1</td>\n",
       "      <td>28.0</td>\n",
       "    </tr>\n",
       "  </tbody>\n",
       "</table>\n",
       "</div>"
      ],
      "text/plain": [
       "   Pclass  Survived  Age_Average\n",
       "0       3         0         25.0\n",
       "1       3         1         22.0\n",
       "2       1         0         45.2\n",
       "3       1         1         35.0\n",
       "4       2         0         30.5\n",
       "5       2         1         28.0"
      ]
     },
     "execution_count": 96,
     "metadata": {},
     "output_type": "execute_result"
    }
   ],
   "source": [
    "def get_target_avg_2features(df, features=[], target=None, aggregate='median'):\n",
    "    feature_1 = features[0]\n",
    "    feature_2 = features[1]\n",
    "    results = []\n",
    "    for i in df[feature_1].unique():\n",
    "        for j in df[feature_2].unique():\n",
    "            subset_feature1_feature2 = df[(df[feature_1] == i) & (df[feature_2] == j)]\n",
    "            if aggregate == 'median':\n",
    "                avg_value = round(subset_feature1_feature2[target].median(), 1)\n",
    "            elif aggregate == 'mean':\n",
    "                avg_value = round(subset_feature1_feature2[target].mean(), 1)\n",
    "            elif aggregate == 'mode':\n",
    "                avg_value = subset_feature1_feature2[target].mode()[0]\n",
    "            else:\n",
    "                raise ValueError(f'[{aggregate}] is an invalid perameter')\n",
    "                \n",
    "            results.append([i, j, avg_value])\n",
    "            \n",
    "    return pd.DataFrame(results, columns=[feature_1, feature_2, f'{target}_Average'])\n",
    "             \n",
    "        \n",
    "get_target_avg_2features(df_train, ['Pclass', 'Survived'], 'Age')"
   ]
  },
  {
   "cell_type": "code",
   "execution_count": 75,
   "id": "a91f4795",
   "metadata": {},
   "outputs": [
    {
     "name": "stdout",
     "output_type": "stream",
     "text": [
      "<class 'pandas.core.frame.DataFrame'>\n",
      "Int64Index: 891 entries, 1 to 891\n",
      "Data columns (total 11 columns):\n",
      " #   Column    Non-Null Count  Dtype  \n",
      "---  ------    --------------  -----  \n",
      " 0   Survived  891 non-null    int64  \n",
      " 1   Pclass    891 non-null    int64  \n",
      " 2   Name      891 non-null    object \n",
      " 3   Sex       891 non-null    object \n",
      " 4   Age       714 non-null    float64\n",
      " 5   SibSp     891 non-null    int64  \n",
      " 6   Parch     891 non-null    int64  \n",
      " 7   Ticket    891 non-null    object \n",
      " 8   Fare      891 non-null    float64\n",
      " 9   Cabin     204 non-null    object \n",
      " 10  Embarked  889 non-null    object \n",
      "dtypes: float64(2), int64(4), object(5)\n",
      "memory usage: 83.5+ KB\n"
     ]
    }
   ],
   "source": [
    "df_train.info()"
   ]
  },
  {
   "cell_type": "code",
   "execution_count": 105,
   "id": "fa365679-a746-4def-b6f3-89004a8abfb4",
   "metadata": {},
   "outputs": [
    {
     "data": {
      "text/plain": [
       "Survived       0.00\n",
       "Pclass         0.00\n",
       "Sex            0.00\n",
       "Age            7.56\n",
       "SibSp          2.83\n",
       "Parch         10.47\n",
       "Fare          15.74\n",
       "Embarked       0.00\n",
       "Infant         0.00\n",
       "Child          0.00\n",
       "Teen           0.00\n",
       "YoungAdult     0.00\n",
       "Adult          0.00\n",
       "Age40+         0.00\n",
       "dtype: float64"
      ]
     },
     "execution_count": 105,
     "metadata": {},
     "output_type": "execute_result"
    }
   ],
   "source": [
    "df_clean = df.copy()\n",
    "\n",
    "# Convert sex from object to integer\n",
    "df_clean.Sex.replace('male', 1, inplace=True)\n",
    "df_clean.Sex.replace('female', 0, inplace=True)\n",
    "\n",
    "df_clean['Title'] = [ i.rsplit(', ')[1].rsplit('.')[0] for i in df_clean.Name.values]  # Extract titles\n",
    "\n",
    "uncommon_titles = 'Rev,Dr,Col,Major,Mlle,Ms,Sir,Capt,Mme,Jonkheer,Lady,the Countess,Don,Dona'.split(',')  \n",
    "df_clean['Title'] = ['uncommon' if i in uncommon_titles else i for i in df_clean.Title.values]  # Group uncommon titles\n",
    "\n",
    "\n",
    "# Impute median age for df_clean based on Pclass and Sex\n",
    "# Todo: tidy code block{\n",
    "null_age = df_clean[df_clean.Age.isnull()].copy()\n",
    "for pclass in df_clean.Pclass.unique():\n",
    "        for gender in df_clean.Sex.unique():\n",
    "            subset_sex_pclass = df_clean[(df_clean.Sex == gender) & (df_clean.Pclass == pclass)]\n",
    "            impute_value = round(subset_sex_pclass.Age.median(), 1)\n",
    "            \n",
    "            null_age.loc[(df_clean.Sex == gender) & (df_clean.Pclass == pclass), 'Age'] = impute_value\n",
    "df_clean.loc[null_age.index, 'Age'] = [i for i in null_age.Age.values]\n",
    "# }\n",
    "\n",
    "\n",
    "df_clean.Embarked.replace(['S', 'C', 'Q'], [1,2,3], inplace=True)\n",
    "df_clean.Embarked.fillna(1, inplace=True)\n",
    "\n",
    "# df_clean.drop('Name', axis=1, inplace=True)  # No more 'value' to be extracted from name\n",
    "df_clean.drop('Cabin', axis=1, inplace=True)  # 77% NaN anyway, could impute data based on fare or title?\n",
    "df_clean.drop('Ticket', axis=1, inplace=True)  # Unsure of how to use this feature at the moment\n",
    "\n",
    "df_clean.kurtosis()  # Highly skewed SibSp, Parch, Fare[Can be helped by droping outliers]\n",
    "\n",
    "df_clean['Infant'] = [1 if i < 1 else 0 for i in df_clean.Age] \n",
    "df_clean['Child'] = [1 if i in range(1, 13) else 0 for i in df_clean.Age]\n",
    "df_clean['Teen'] = [1 if i in range(13, 19) else 0 for i in df_clean.Age]\n",
    "df_clean['YoungAdult'] = [1 if i in range(19, 30) else 0 for i in df_clean.Age]\n",
    "df_clean['Adult'] = [1 if i in range(30, 40) else 0 for i in df_clean.Age]\n",
    "df_clean['Age40+'] = [1 if i >= 40 else 0 for i in df_clean.Age]\n",
    "\n",
    "util.outliers_percentage(df_clean)"
   ]
  },
  {
   "cell_type": "code",
   "execution_count": null,
   "id": "2b887bad",
   "metadata": {},
   "outputs": [],
   "source": [
    "df_clean = pd.get_dummies(df_clean, drop_first=True)\n",
    "\n",
    "train = df_clean[:len(df_train)]\n",
    "test = df_clean[len(df_train):].drop('Survived', axis=1)"
   ]
  },
  {
   "cell_type": "markdown",
   "id": "af17defe",
   "metadata": {},
   "source": [
    "## Testing model performance"
   ]
  },
  {
   "cell_type": "code",
   "execution_count": 1,
   "id": "c937bd79",
   "metadata": {},
   "outputs": [],
   "source": [
    "# x = train.drop('Survived', axis=1)\n",
    "# y = train.Survived\n",
    "\n",
    "# cv = 10\n",
    "# log_reg_scores = cross_val_score(LogisticRegression(solver='liblinear'), x, y, cv=cv)\n",
    "# tree_classifier_scores = cross_val_score(DecisionTreeClassifier(max_depth=4), x, y, cv=cv)\n",
    "# rand_forest_scores = cross_val_score(RandomForestClassifier(max_depth=10), x, y, cv=cv)\n",
    "# k_neighbors = cross_val_score(KNeighborsClassifier(n_neighbors=5), x, y, cv=cv)\n",
    "\n",
    "# scores_df = pd.DataFrame({\n",
    "#             'LogisticRegression':log_reg_scores,\n",
    "#             'DecisionTreeClassifier':tree_classifier_scores,\n",
    "#             'RandomForestClassifier':rand_forest_scores,\n",
    "#             'KNeighborsClassifier':k_neighbors\n",
    "#                             })\n",
    "# scores_df.describe().drop('count')"
   ]
  },
  {
   "cell_type": "code",
   "execution_count": 2,
   "id": "1c788fa6",
   "metadata": {
    "scrolled": false
   },
   "outputs": [],
   "source": [
    "# from sklearn.preprocessing import MinMaxScaler\n",
    "# from sklearn.preprocessing import StandardScaler\n",
    "# from sklearn.model_selection import train_test_split\n",
    "# from sklearn.metrics import classification_report\n",
    "# from sklearn.feature_selection import VarianceThreshold\n",
    "\n",
    "# x = train.drop(['Survived'], axis=1)\n",
    "# y = train.Survived\n",
    "\n",
    "# x_train, x_test, y_train, y_test = train_test_split(x, y, test_size=.1)\n",
    "\n",
    "# #Feature selection Variance\n",
    "# var_threshold = VarianceThreshold(0.6).fit(x_train)\n",
    "# x_train = var_threshold.transform(x_train)\n",
    "# x_test = var_threshold.transform(x_test)\n",
    "\n",
    "# stand_scaler = StandardScaler().fit(x_train)\n",
    "\n",
    "# x_train_stand = stand_scaler.transform(x_train)\n",
    "# x_test_stand = stand_scaler.transform(x_test)\n",
    "# #------------------------------------------------------------\n",
    "\n",
    "# log_reg = LogisticRegression().fit(x_train_stand, y_train)\n",
    "# test_pred = log_reg.predict(x_test)\n",
    "\n",
    "\n",
    "# print(classification_report(y_test, test_pred, target_names=['Died', 'Survived']))"
   ]
  }
 ],
 "metadata": {
  "kernelspec": {
   "display_name": "Python 3 (ipykernel)",
   "language": "python",
   "name": "python3"
  },
  "language_info": {
   "codemirror_mode": {
    "name": "ipython",
    "version": 3
   },
   "file_extension": ".py",
   "mimetype": "text/x-python",
   "name": "python",
   "nbconvert_exporter": "python",
   "pygments_lexer": "ipython3",
   "version": "3.8.5"
  }
 },
 "nbformat": 4,
 "nbformat_minor": 5
}
