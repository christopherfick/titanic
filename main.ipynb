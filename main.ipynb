{
 "cells": [
  {
   "cell_type": "code",
   "execution_count": 3,
   "id": "bd652ec9-6e87-4241-ae9d-732d51058e22",
   "metadata": {},
   "outputs": [],
   "source": [
    "from util import info\n",
    "\n",
    "import pandas as pd\n",
    "import numpy as np"
   ]
  },
  {
   "cell_type": "code",
   "execution_count": 4,
   "id": "0d085e85-b6f3-4515-945c-541b8034680b",
   "metadata": {},
   "outputs": [
    {
     "name": "stdout",
     "output_type": "stream",
     "text": [
      "<class 'pandas.core.frame.DataFrame'>\n",
      "Int64Index: 1309 entries, 1 to 1309\n",
      "Data columns (total 11 columns):\n",
      " #   Column    Non-Null Count  Dtype  \n",
      "---  ------    --------------  -----  \n",
      " 0   Survived  891 non-null    float64\n",
      " 1   Pclass    1309 non-null   int64  \n",
      " 2   Name      1309 non-null   object \n",
      " 3   Sex       1309 non-null   object \n",
      " 4   Age       1046 non-null   float64\n",
      " 5   SibSp     1309 non-null   int64  \n",
      " 6   Parch     1309 non-null   int64  \n",
      " 7   Ticket    1309 non-null   object \n",
      " 8   Fare      1308 non-null   float64\n",
      " 9   Cabin     295 non-null    object \n",
      " 10  Embarked  1307 non-null   object \n",
      "dtypes: float64(3), int64(3), object(5)\n",
      "memory usage: 122.7+ KB\n"
     ]
    }
   ],
   "source": [
    "df_train = pd.read_csv('train.csv', index_col=[0])\n",
    "df_test = pd.read_csv('test.csv', index_col=[0])\n",
    "\n",
    "df = pd.concat([df_train, df_test])\n",
    "df.info()"
   ]
  },
  {
   "cell_type": "markdown",
   "id": "76fc910c-dbed-4b68-b85c-57b196e85cbf",
   "metadata": {
    "tags": []
   },
   "source": [
    "## Data Exploration Notes:\n",
    "--- \n",
    "1. Null values:\n",
    "    * Age = 263\n",
    "    * Cabin = 1014 \n",
    "        * 77% of Cabin data is Null values [Drop / find some utility]  \n",
    "    * Fare has 1 null value in test training set\n",
    "2. Text Data:\n",
    "    * Name\n",
    "    * Sex\n",
    "    * Ticket\n",
    "    * Cabin\n",
    "    * Embarked\n",
    "3. Numeric Data:\n",
    "    * Survived\n",
    "    * Pclass\n",
    "    * Age\n",
    "    * SibSp\n",
    "    * Parch\n",
    "    * Fare \n",
    "---    \n",
    "#### Thoughts: ####  \n",
    "    * Survived mean 0.39, unbalanced Survived ratio?\n",
    "    * Pclass is skewed more observations with values of 3\n",
    "    * Age min 0.17 ? \n",
    "    * Age mean 30, fairly low considering max value is 80\n",
    "    * SibSp, Parch and Fare is skewed to the right df.SubSp.hist()\n",
    "       \n",
    "#### Value Counts on objects: ####\n",
    "    * Sex Double the amount of males than females on-board...\n",
    "    * Name Dubplicates in Test data:  \n",
    "        * Connolly, Miss. Kate\n",
    "        * Kelly, Mr. James\n",
    "    * Tickets lots of values dummy encoding will just make tons of unneeded features...\n",
    "        * Maybe extract only the numbers and store as int?\n",
    "        * What about values that don't contain any number?\n",
    "    * Cabin 186 observations to dummy encode? \n",
    "        * Is there a better solution\n",
    "    * Embarked has 3 Features...\n",
    "        * Good for dummy encoding however 'S' has triple the amount of occurences than other 2 features combined"
   ]
  },
  {
   "cell_type": "code",
   "execution_count": 5,
   "id": "fa365679-a746-4def-b6f3-89004a8abfb4",
   "metadata": {
    "scrolled": true
   },
   "outputs": [],
   "source": [
    "df_clean = df.copy()\n",
    "\n",
    "# Convert sex from object to integer\n",
    "df_clean.Sex.replace('male', 1, inplace=True)\n",
    "df_clean.Sex.replace('female', 0, inplace=True)\n",
    "\n",
    "df_clean['Title'] = [ i.rsplit(', ')[1].rsplit('.')[0] for i in df_clean.Name.values]  # Extract titles\n",
    "\n",
    "uncommon_titles = 'Rev,Dr,Col,Major,Mlle,Ms,Sir,Capt,Mme,Jonkheer,Lady,the Countess,Don,Dona'.split(',')  \n",
    "df_clean['Title'] = ['uncommon' if i in uncommon_titles else i for i in df_clean.Title.values]  # Group uncommon titles\n",
    "\n",
    "# df_clean.drop('Name', axis=1, inplace=True)  # No more 'value' to be extracted from name\n",
    "df_clean.drop('Cabin', axis=1, inplace=True)  # 77% NaN anyway we can impute data based on fare and title?\n",
    "\n",
    "null_age = df_clean[df_clean.Age.isnull()].copy()\n",
    "\n",
    "#  TODO: Impute median age based on Pclass and Sex\n",
    "# for pclass in df_clean.Pclass.unique():\n",
    "#         for gender in df_clean.Sex.unique():\n",
    "#             subset_sex_pclass = df_clean[(df_clean.Sex == gender) & (df_clean.Pclass == pclass)]\n",
    "#             impute_value = round(subset_sex_pclass.Age.median(), 1)\n",
    "            \n",
    "#             for index, row in subset_sex_pclass.iterrows():\n",
    "#                 df_clean.loc[index, 'Age'] = impute_value\n",
    "                \n"
   ]
  }
 ],
 "metadata": {
  "kernelspec": {
   "display_name": "Python 3 (ipykernel)",
   "language": "python",
   "name": "python3"
  },
  "language_info": {
   "codemirror_mode": {
    "name": "ipython",
    "version": 3
   },
   "file_extension": ".py",
   "mimetype": "text/x-python",
   "name": "python",
   "nbconvert_exporter": "python",
   "pygments_lexer": "ipython3",
   "version": "3.9.12"
  }
 },
 "nbformat": 4,
 "nbformat_minor": 5
}
