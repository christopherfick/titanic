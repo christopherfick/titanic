{
 "cells": [
  {
   "cell_type": "code",
   "execution_count": 2,
   "id": "bd652ec9-6e87-4241-ae9d-732d51058e22",
   "metadata": {},
   "outputs": [],
   "source": [
    "import util\n",
    "\n",
    "import pandas as pd\n",
    "import numpy as np\n",
    "\n",
    "from sklearn.model_selection import cross_val_score\n",
    "from sklearn.linear_model import LogisticRegression\n",
    "from sklearn.tree import DecisionTreeClassifier\n",
    "from sklearn.ensemble import RandomForestClassifier\n",
    "from sklearn.neighbors import KNeighborsClassifier\n",
    "from sklearn.svm import SVC"
   ]
  },
  {
   "cell_type": "code",
   "execution_count": 3,
   "id": "0d085e85-b6f3-4515-945c-541b8034680b",
   "metadata": {},
   "outputs": [
    {
     "name": "stdout",
     "output_type": "stream",
     "text": [
      "<class 'pandas.core.frame.DataFrame'>\n",
      "Int64Index: 1309 entries, 1 to 1309\n",
      "Data columns (total 11 columns):\n",
      " #   Column    Non-Null Count  Dtype  \n",
      "---  ------    --------------  -----  \n",
      " 0   Survived  891 non-null    float64\n",
      " 1   Pclass    1309 non-null   int64  \n",
      " 2   Name      1309 non-null   object \n",
      " 3   Sex       1309 non-null   object \n",
      " 4   Age       1046 non-null   float64\n",
      " 5   SibSp     1309 non-null   int64  \n",
      " 6   Parch     1309 non-null   int64  \n",
      " 7   Ticket    1309 non-null   object \n",
      " 8   Fare      1308 non-null   float64\n",
      " 9   Cabin     295 non-null    object \n",
      " 10  Embarked  1307 non-null   object \n",
      "dtypes: float64(3), int64(3), object(5)\n",
      "memory usage: 122.7+ KB\n"
     ]
    }
   ],
   "source": [
    "df_train = pd.read_csv('train.csv', index_col=[0])\n",
    "df_test = pd.read_csv('test.csv', index_col=[0])\n",
    "\n",
    "df = pd.concat([df_train, df_test])\n",
    "df.info()"
   ]
  },
  {
   "cell_type": "markdown",
   "id": "76fc910c-dbed-4b68-b85c-57b196e85cbf",
   "metadata": {
    "tags": []
   },
   "source": [
    "## Data Exploration Notes:\n",
    "--- \n",
    "1. Null values:\n",
    "    * Age = 263\n",
    "    * Cabin = 1014 \n",
    "        * 77% of Cabin data is Null values [Drop / find some utility]  \n",
    "    * Fare has 1 null value in test training set\n",
    "2. Text Data:\n",
    "    * Name\n",
    "    * Sex\n",
    "    * Ticket\n",
    "    * Cabin\n",
    "    * Embarked\n",
    "3. Numeric Data:\n",
    "    * Survived\n",
    "    * Pclass\n",
    "    * Age\n",
    "    * SibSp\n",
    "    * Parch\n",
    "    * Fare \n",
    "---    \n",
    "#### Thoughts: ####  \n",
    "    * Survived mean 0.39, unbalanced Survived ratio?\n",
    "    * Pclass is skewed more observations with values of 3\n",
    "    * Age min 0.17 ? \n",
    "    * Age mean 30, fairly low considering max value is 80\n",
    "    * SibSp, Parch and Fare is skewed to the right df.SubSp.hist()\n",
    "       \n",
    "#### Value Counts on objects: ####\n",
    "    * Sex Double the amount of males than females on-board...\n",
    "    * Name Dubplicates in Test data:  \n",
    "        * Connolly, Miss. Kate\n",
    "        * Kelly, Mr. James\n",
    "    * Tickets lots of values dummy encoding will just make tons of unneeded features...\n",
    "        * Maybe extract only the numbers and store as int?\n",
    "        * What about values that don't contain any number?\n",
    "    * Cabin 186 observations to dummy encode? \n",
    "        * Is there a better solution\n",
    "    * Embarked has 3 Features...\n",
    "        * Good for dummy encoding however 'S' has triple the amount of occurences than other 2 features combined"
   ]
  },
  {
   "cell_type": "code",
   "execution_count": 284,
   "id": "fa365679-a746-4def-b6f3-89004a8abfb4",
   "metadata": {},
   "outputs": [],
   "source": [
    "df_clean = df.copy()\n",
    "\n",
    "# Convert sex from object to integer\n",
    "df_clean.Sex.replace('male', 1, inplace=True)\n",
    "df_clean.Sex.replace('female', 0, inplace=True)\n",
    "\n",
    "df_clean['Title'] = [ i.rsplit(', ')[1].rsplit('.')[0] for i in df_clean.Name.values]  # Extract titles\n",
    "\n",
    "uncommon_titles = 'Rev,Dr,Col,Major,Mlle,Ms,Sir,Capt,Mme,Jonkheer,Lady,the Countess,Don,Dona'.split(',')  \n",
    "df_clean['Title'] = ['uncommon' if i in uncommon_titles else i for i in df_clean.Title.values]  # Group uncommon titles\n",
    "\n",
    "\n",
    "# Impute median age for df_clean based on Pclass and Sex\n",
    "# Todo: tidy code block{\n",
    "null_age = df_clean[df_clean.Age.isnull()].copy()\n",
    "for pclass in df_clean.Pclass.unique():\n",
    "        for gender in df_clean.Sex.unique():\n",
    "            subset_sex_pclass = df_clean[(df_clean.Sex == gender) & (df_clean.Pclass == pclass)]\n",
    "            impute_value = round(subset_sex_pclass.Age.median(), 1)\n",
    "            \n",
    "            null_age.loc[(df_clean.Sex == gender) & (df_clean.Pclass == pclass), 'Age'] = impute_value\n",
    "df_clean.loc[null_age.index, 'Age'] = [i for i in null_age.Age.values]\n",
    "# }\n",
    "\n",
    "df_clean.Embarked.replace(['S', 'C', 'Q'], [1,2,3], inplace=True)\n",
    "df_clean.Embarked.fillna(1, inplace=True)\n",
    "\n",
    "df_clean.drop('Name', axis=1, inplace=True)  # No more 'value' to be extracted from name\n",
    "df_clean.drop('Cabin', axis=1, inplace=True)  # 77% NaN anyway we can impute data based on fare and title?\n",
    "df_clean.drop('Ticket', axis=1, inplace=True)  # Unsure of how to use this feature at the moment\n",
    "\n",
    "df_clean = pd.get_dummies(df_clean, drop_first=True)\n",
    "\n",
    "train = df_clean[:len(df_train)]\n",
    "test = df_clean[len(df_train):].drop('Survived', axis=1)"
   ]
  },
  {
   "cell_type": "code",
   "execution_count": 173,
   "id": "d8da2b68",
   "metadata": {},
   "outputs": [
    {
     "data": {
      "image/png": "[encoded data removed]",
      "text/plain": [
       "<Figure size 864x864 with 2 Axes>"
      ]
     },
     "metadata": {
      "needs_background": "light"
     },
     "output_type": "display_data"
    }
   ],
   "source": [
    "util.plot_heatmap(train)"
   ]
  },
  {
   "cell_type": "markdown",
   "id": "af17defe",
   "metadata": {},
   "source": [
    "## Testing model performance"
   ]
  },
  {
   "cell_type": "code",
   "execution_count": 174,
   "id": "c937bd79",
   "metadata": {},
   "outputs": [
    {
     "data": {
      "text/html": [
       "<div>\n",
       "<style scoped>\n",
       "    .dataframe tbody tr th:only-of-type {\n",
       "        vertical-align: middle;\n",
       "    }\n",
       "\n",
       "    .dataframe tbody tr th {\n",
       "        vertical-align: top;\n",
       "    }\n",
       "\n",
       "    .dataframe thead th {\n",
       "        text-align: right;\n",
       "    }\n",
       "</style>\n",
       "<table border=\"1\" class=\"dataframe\">\n",
       "  <thead>\n",
       "    <tr style=\"text-align: right;\">\n",
       "      <th></th>\n",
       "      <th>LogisticRegression</th>\n",
       "      <th>DecisionTreeClassifier</th>\n",
       "      <th>RandomForestClassifier</th>\n",
       "      <th>KNeighborsClassifier</th>\n",
       "    </tr>\n",
       "  </thead>\n",
       "  <tbody>\n",
       "    <tr>\n",
       "      <th>mean</th>\n",
       "      <td>0.818177</td>\n",
       "      <td>0.833908</td>\n",
       "      <td>0.823845</td>\n",
       "      <td>0.721685</td>\n",
       "    </tr>\n",
       "    <tr>\n",
       "      <th>std</th>\n",
       "      <td>0.037020</td>\n",
       "      <td>0.044189</td>\n",
       "      <td>0.052198</td>\n",
       "      <td>0.030967</td>\n",
       "    </tr>\n",
       "    <tr>\n",
       "      <th>min</th>\n",
       "      <td>0.764045</td>\n",
       "      <td>0.741573</td>\n",
       "      <td>0.730337</td>\n",
       "      <td>0.674157</td>\n",
       "    </tr>\n",
       "    <tr>\n",
       "      <th>25%</th>\n",
       "      <td>0.800562</td>\n",
       "      <td>0.812297</td>\n",
       "      <td>0.792135</td>\n",
       "      <td>0.701966</td>\n",
       "    </tr>\n",
       "    <tr>\n",
       "      <th>50%</th>\n",
       "      <td>0.821223</td>\n",
       "      <td>0.842697</td>\n",
       "      <td>0.831461</td>\n",
       "      <td>0.719101</td>\n",
       "    </tr>\n",
       "    <tr>\n",
       "      <th>75%</th>\n",
       "      <td>0.831461</td>\n",
       "      <td>0.862360</td>\n",
       "      <td>0.842697</td>\n",
       "      <td>0.738764</td>\n",
       "    </tr>\n",
       "    <tr>\n",
       "      <th>max</th>\n",
       "      <td>0.876404</td>\n",
       "      <td>0.898876</td>\n",
       "      <td>0.921348</td>\n",
       "      <td>0.786517</td>\n",
       "    </tr>\n",
       "  </tbody>\n",
       "</table>\n",
       "</div>"
      ],
      "text/plain": [
       "      LogisticRegression  DecisionTreeClassifier  RandomForestClassifier  \\\n",
       "mean            0.818177                0.833908                0.823845   \n",
       "std             0.037020                0.044189                0.052198   \n",
       "min             0.764045                0.741573                0.730337   \n",
       "25%             0.800562                0.812297                0.792135   \n",
       "50%             0.821223                0.842697                0.831461   \n",
       "75%             0.831461                0.862360                0.842697   \n",
       "max             0.876404                0.898876                0.921348   \n",
       "\n",
       "      KNeighborsClassifier  \n",
       "mean              0.721685  \n",
       "std               0.030967  \n",
       "min               0.674157  \n",
       "25%               0.701966  \n",
       "50%               0.719101  \n",
       "75%               0.738764  \n",
       "max               0.786517  "
      ]
     },
     "execution_count": 174,
     "metadata": {},
     "output_type": "execute_result"
    }
   ],
   "source": [
    "x = train.drop('Survived', axis=1)\n",
    "y = train.Survived\n",
    "\n",
    "cv = 10\n",
    "log_reg_scores = cross_val_score(LogisticRegression(solver='liblinear'), x, y, cv=cv)\n",
    "tree_classifier_scores = cross_val_score(DecisionTreeClassifier(max_depth=4), x, y, cv=cv)\n",
    "rand_forest_scores = cross_val_score(RandomForestClassifier(max_depth=10), x, y, cv=cv)\n",
    "k_neighbors = cross_val_score(KNeighborsClassifier(n_neighbors=5), x, y, cv=cv)\n",
    "\n",
    "scores_df = pd.DataFrame({\n",
    "            'LogisticRegression':log_reg_scores,\n",
    "            'DecisionTreeClassifier':tree_classifier_scores,\n",
    "            'RandomForestClassifier':rand_forest_scores,\n",
    "            'KNeighborsClassifier':k_neighbors\n",
    "                            })\n",
    "scores_df.describe().drop('count')"
   ]
  },
  {
   "cell_type": "code",
   "execution_count": 27,
   "id": "4032f176",
   "metadata": {},
   "outputs": [
    {
     "data": {
      "text/plain": [
       "Index(['Pclass', 'Sex', 'Age', 'SibSp', 'Parch', 'Fare', 'Title_Master',\n",
       "       'Title_Miss', 'Title_Mr', 'Title_Mrs', 'Title_uncommon'],\n",
       "      dtype='object')"
      ]
     },
     "execution_count": 27,
     "metadata": {},
     "output_type": "execute_result"
    }
   ],
   "source": [
    "x.columns"
   ]
  },
  {
   "cell_type": "markdown",
   "id": "ab24dccc",
   "metadata": {},
   "source": [
    "Notes:  \n",
    "* Although slight reduction in mean, the spread of the results has improved"
   ]
  },
  {
   "cell_type": "code",
   "execution_count": 269,
   "id": "03c74be8",
   "metadata": {},
   "outputs": [
    {
     "data": {
      "text/html": [
       "<div>\n",
       "<style scoped>\n",
       "    .dataframe tbody tr th:only-of-type {\n",
       "        vertical-align: middle;\n",
       "    }\n",
       "\n",
       "    .dataframe tbody tr th {\n",
       "        vertical-align: top;\n",
       "    }\n",
       "\n",
       "    .dataframe thead th {\n",
       "        text-align: right;\n",
       "    }\n",
       "</style>\n",
       "<table border=\"1\" class=\"dataframe\">\n",
       "  <thead>\n",
       "    <tr style=\"text-align: right;\">\n",
       "      <th></th>\n",
       "      <th>DecisionTreeClassifier</th>\n",
       "      <th>RandomForestClassifier</th>\n",
       "    </tr>\n",
       "  </thead>\n",
       "  <tbody>\n",
       "    <tr>\n",
       "      <th>mean</th>\n",
       "      <td>0.836142</td>\n",
       "      <td>0.817116</td>\n",
       "    </tr>\n",
       "    <tr>\n",
       "      <th>std</th>\n",
       "      <td>0.042751</td>\n",
       "      <td>0.033906</td>\n",
       "    </tr>\n",
       "    <tr>\n",
       "      <th>min</th>\n",
       "      <td>0.752809</td>\n",
       "      <td>0.764045</td>\n",
       "    </tr>\n",
       "    <tr>\n",
       "      <th>25%</th>\n",
       "      <td>0.814607</td>\n",
       "      <td>0.803371</td>\n",
       "    </tr>\n",
       "    <tr>\n",
       "      <th>50%</th>\n",
       "      <td>0.832397</td>\n",
       "      <td>0.820225</td>\n",
       "    </tr>\n",
       "    <tr>\n",
       "      <th>75%</th>\n",
       "      <td>0.865169</td>\n",
       "      <td>0.831461</td>\n",
       "    </tr>\n",
       "    <tr>\n",
       "      <th>max</th>\n",
       "      <td>0.898876</td>\n",
       "      <td>0.876404</td>\n",
       "    </tr>\n",
       "  </tbody>\n",
       "</table>\n",
       "</div>"
      ],
      "text/plain": [
       "      DecisionTreeClassifier  RandomForestClassifier\n",
       "mean                0.836142                0.817116\n",
       "std                 0.042751                0.033906\n",
       "min                 0.752809                0.764045\n",
       "25%                 0.814607                0.803371\n",
       "50%                 0.832397                0.820225\n",
       "75%                 0.865169                0.831461\n",
       "max                 0.898876                0.876404"
      ]
     },
     "execution_count": 269,
     "metadata": {},
     "output_type": "execute_result"
    }
   ],
   "source": [
    "x = train.drop(['Survived', 'Fare', 'Title_Miss', 'Title_Mrs'], axis=1)\n",
    "y = train.Survived\n",
    "\n",
    "tree_classifier_scores = cross_val_score(DecisionTreeClassifier(max_depth=4), x, y, cv=cv)\n",
    "rand_forest_scores = cross_val_score(RandomForestClassifier(random_state=0, max_depth=10), x, y, cv=cv)\n",
    "\n",
    "scores_df = pd.DataFrame({\n",
    "            'DecisionTreeClassifier':tree_classifier_scores,\n",
    "            'RandomForestClassifier':rand_forest_scores,\n",
    "                            })\n",
    "scores_df.describe().drop('count')"
   ]
  },
  {
   "cell_type": "code",
   "execution_count": 301,
   "id": "c7d2931b",
   "metadata": {},
   "outputs": [],
   "source": [
    "X = train.drop(['Survived', 'Fare', 'Title_Miss', 'Title_Mrs'], axis=1)\n",
    "y = train.Survived\n",
    "Test = test.drop(['Fare', 'Title_Miss', 'Title_Mrs'], axis=1)\n",
    "\n",
    "tree_model = DecisionTreeClassifier(max_depth=4).fit(X, y)\n",
    "predicts = tree_model.predict(Test)\n",
    "\n",
    "submission = pd.DataFrame({'PassengerId': Test.index,\n",
    "                           'Survived': [int(i) for i in predicts]})\n",
    "\n",
    "submission.to_csv('DecisionTree_001.csv', index=False)\n"
   ]
  }
 ],
 "metadata": {
  "kernelspec": {
   "display_name": "Python 3 (ipykernel)",
   "language": "python",
   "name": "python3"
  },
  "language_info": {
   "codemirror_mode": {
    "name": "ipython",
    "version": 3
   },
   "file_extension": ".py",
   "mimetype": "text/x-python",
   "name": "python",
   "nbconvert_exporter": "python",
   "pygments_lexer": "ipython3",
   "version": "3.8.5"
  }
 },
 "nbformat": 4,
 "nbformat_minor": 5
}
